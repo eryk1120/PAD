{
 "cells": [
  {
   "cell_type": "code",
   "execution_count": 17,
   "id": "9cc615ce",
   "metadata": {},
   "outputs": [],
   "source": [
    "import pickle\n",
    "filename = \"../pickles/24.06.2021_16:05:S.pickle\"\n",
    "\n",
    "with open(filename, 'rb') as file:\n",
    "    dataset = pickle.load(file)"
   ]
  },
  {
   "cell_type": "code",
   "execution_count": null,
   "id": "c475dab3",
   "metadata": {},
   "outputs": [],
   "source": [
    "import numpy as np\n",
    "\n",
    "import tensorflow as tf\n",
    "from tensorflow.keras.layers import Conv2D, Conv2DTranspose, MaxPooling2D,MaxPool2D,Dense, Dropout, Activation, Flatten\n",
    "from tensorflow.keras.models import Sequential\n",
    "from keras.optimizers import Adam\n",
    "\n",
    "\n",
    "\n",
    "from sklearn.model_selection import train_test_split"
   ]
  },
  {
   "cell_type": "code",
   "execution_count": 20,
   "id": "951d9105",
   "metadata": {},
   "outputs": [],
   "source": [
    "x = []\n",
    "y = []\n",
    "\n",
    "for d in dataset:\n",
    "    x.append(d[0])\n",
    "    y.append(d[1])"
   ]
  },
  {
   "cell_type": "code",
   "execution_count": 23,
   "id": "0c177352",
   "metadata": {},
   "outputs": [],
   "source": [
    "x_train, x_val, y_train, y_val =  train_test_split(x, y, test_size=0.3, random_state=80)"
   ]
  },
  {
   "cell_type": "code",
   "execution_count": null,
   "id": "e0bc6c07",
   "metadata": {},
   "outputs": [],
   "source": [
    "kernel_dim=(4,4)\n",
    "num_filters = 4\n",
    "model = Sequential([\n",
    "    Conv2D(filters=num_filters, kernel_size=kernel_dim, activation='relu', padding = 'same', input_shape=(256,256,1)),\n",
    "    Conv2D(filters=num_filters*2, kernel_size=(3, 3), activation='relu', padding = 'same'),\n",
    "    Conv2D(filters=num_filters*4, kernel_size=(3, 3), activation='relu', padding = 'same'),\n",
    "    Conv2D(filters=num_filters*16, kernel_size=(3, 3), activation='relu', padding = 'same'),\n",
    "    Conv2D(filters=num_filters*32, kernel_size=(3, 3), activation='relu', padding = 'same'),\n",
    "    Conv2D(filters=num_filters*64, kernel_size=(3, 3), activation='relu', padding = 'same'),\n",
    "    Conv2DTranspose(filters=num_filters*64, kernel_size=(3, 3), activation='relu', padding = 'same'),\n",
    "    Conv2DTranspose(filters=num_filters*32, kernel_size=(3, 3), activation='relu', padding = 'same'),\n",
    "    Conv2DTranspose(filters=num_filters*16, kernel_size=(3, 3), activation='relu', padding = 'same'),\n",
    "    Conv2DTranspose(filters=num_filters*8, kernel_size=(3, 3), activation='relu', padding = 'same'),\n",
    "    Conv2DTranspose(filters=num_filters*4, kernel_size=(3, 3), activation='relu', padding = 'same'),\n",
    "    Conv2DTranspose(filters=num_filters*2, kernel_size=(3, 3), activation='relu', padding = 'same'),\n",
    "    Conv2DTranspose(filters=num_filters, kernel_size=(3, 3), activation='relu', padding = 'same')\n",
    "\n",
    "\n",
    "])\n",
    "\n",
    "model.summary()  "
   ]
  },
  {
   "cell_type": "code",
   "execution_count": null,
   "id": "ebad4f1f",
   "metadata": {},
   "outputs": [],
   "source": [
    "model.compile(optimizer=Adam(learning_rate=0.0001), loss='categorical_crossentropy', metrics=['accuracy'])"
   ]
  },
  {
   "cell_type": "code",
   "execution_count": null,
   "id": "3b11dff4",
   "metadata": {},
   "outputs": [],
   "source": [
    "history = model.fit(x = x_train, y = y_train, epochs = 3, verbose=1 ,validation_data=(x_val, y_val), batch_size = 100)   #batch 500-1000"
   ]
  }
 ],
 "metadata": {
  "kernelspec": {
   "display_name": "Python 3",
   "language": "python",
   "name": "python3"
  },
  "language_info": {
   "codemirror_mode": {
    "name": "ipython",
    "version": 3
   },
   "file_extension": ".py",
   "mimetype": "text/x-python",
   "name": "python",
   "nbconvert_exporter": "python",
   "pygments_lexer": "ipython3",
   "version": "3.9.5"
  }
 },
 "nbformat": 4,
 "nbformat_minor": 5
}
